{
 "cells": [
  {
   "cell_type": "code",
   "execution_count": null,
   "id": "e38fa448",
   "metadata": {},
   "outputs": [],
   "source": [
    "#Q1) Why we require standardization and normalization?\n",
    "Ans: Every column has different values and different units .\n",
    "     \n",
    "    Inorder to get good accuracy , it is better to standardize or normalize the data\n",
    "\n",
    "#Q2) What technique you will for Standadization?\n",
    "Ans: Z-score or Z-standardization(z-transform)\n",
    "    \n",
    "#Q3) Formula for Z-score?\n",
    "\n",
    "      z=x-u/sigma\n",
    "\n",
    "#Q4) Value range is : -3 to 3\n",
    "- We r converting originally a real line data = -inf to inf (inf-infinity) \n",
    "#Q5) After you convert data into Z-scores what is mean and standard deviation?\n",
    "\n",
    "Mean=0\n",
    "Std=1\n",
    "\n",
    "## Normalization: Value will be converted from 0 to 1 \n",
    "## value quantity will be changed but the quality of value will never change\n",
    "Age income\n",
    "30 1lakh\n",
    "2   1\n",
    "Age mean\n",
    "Age std === 30 to 2\n",
    "Income mean"
   ]
  },
  {
   "cell_type": "markdown",
   "id": "e987281a",
   "metadata": {},
   "source": [
    "# Normalization"
   ]
  },
  {
   "cell_type": "code",
   "execution_count": 1,
   "id": "946faf87",
   "metadata": {},
   "outputs": [],
   "source": [
    "##Method-1: (Manually)\n",
    "##Import the packages\n",
    "\n",
    "import numpy as np\n",
    "import pandas as pd"
   ]
  },
  {
   "cell_type": "code",
   "execution_count": 2,
   "id": "723999e8",
   "metadata": {},
   "outputs": [],
   "source": [
    "file_name=\"C:\\\\Users\\\\S Nikitha\\\\Downloads\\\\Visadataset - Visadataset.csv\"\n",
    "visa_dataset=pd.read_csv(file_name)"
   ]
  },
  {
   "cell_type": "code",
   "execution_count": 3,
   "id": "7799d004",
   "metadata": {},
   "outputs": [
    {
     "data": {
      "text/html": [
       "<div>\n",
       "<style scoped>\n",
       "    .dataframe tbody tr th:only-of-type {\n",
       "        vertical-align: middle;\n",
       "    }\n",
       "\n",
       "    .dataframe tbody tr th {\n",
       "        vertical-align: top;\n",
       "    }\n",
       "\n",
       "    .dataframe thead th {\n",
       "        text-align: right;\n",
       "    }\n",
       "</style>\n",
       "<table border=\"1\" class=\"dataframe\">\n",
       "  <thead>\n",
       "    <tr style=\"text-align: right;\">\n",
       "      <th></th>\n",
       "      <th>case_id</th>\n",
       "      <th>continent</th>\n",
       "      <th>education_of_employee</th>\n",
       "      <th>has_job_experience</th>\n",
       "      <th>requires_job_training</th>\n",
       "      <th>no_of_employees</th>\n",
       "      <th>yr_of_estab</th>\n",
       "      <th>region_of_employment</th>\n",
       "      <th>prevailing_wage</th>\n",
       "      <th>unit_of_wage</th>\n",
       "      <th>full_time_position</th>\n",
       "      <th>case_status</th>\n",
       "    </tr>\n",
       "  </thead>\n",
       "  <tbody>\n",
       "    <tr>\n",
       "      <th>0</th>\n",
       "      <td>EZYV01</td>\n",
       "      <td>Asia</td>\n",
       "      <td>High School</td>\n",
       "      <td>N</td>\n",
       "      <td>N</td>\n",
       "      <td>14513</td>\n",
       "      <td>2007</td>\n",
       "      <td>West</td>\n",
       "      <td>592.2029</td>\n",
       "      <td>Hour</td>\n",
       "      <td>Y</td>\n",
       "      <td>Denied</td>\n",
       "    </tr>\n",
       "    <tr>\n",
       "      <th>1</th>\n",
       "      <td>EZYV02</td>\n",
       "      <td>Asia</td>\n",
       "      <td>Master's</td>\n",
       "      <td>Y</td>\n",
       "      <td>N</td>\n",
       "      <td>2412</td>\n",
       "      <td>2002</td>\n",
       "      <td>Northeast</td>\n",
       "      <td>83425.6500</td>\n",
       "      <td>Year</td>\n",
       "      <td>Y</td>\n",
       "      <td>Certified</td>\n",
       "    </tr>\n",
       "    <tr>\n",
       "      <th>2</th>\n",
       "      <td>EZYV03</td>\n",
       "      <td>Asia</td>\n",
       "      <td>Bachelor's</td>\n",
       "      <td>N</td>\n",
       "      <td>Y</td>\n",
       "      <td>44444</td>\n",
       "      <td>2008</td>\n",
       "      <td>West</td>\n",
       "      <td>122996.8600</td>\n",
       "      <td>Year</td>\n",
       "      <td>Y</td>\n",
       "      <td>Denied</td>\n",
       "    </tr>\n",
       "    <tr>\n",
       "      <th>3</th>\n",
       "      <td>EZYV04</td>\n",
       "      <td>Asia</td>\n",
       "      <td>Bachelor's</td>\n",
       "      <td>N</td>\n",
       "      <td>N</td>\n",
       "      <td>98</td>\n",
       "      <td>1897</td>\n",
       "      <td>West</td>\n",
       "      <td>83434.0300</td>\n",
       "      <td>Year</td>\n",
       "      <td>Y</td>\n",
       "      <td>Denied</td>\n",
       "    </tr>\n",
       "    <tr>\n",
       "      <th>4</th>\n",
       "      <td>EZYV05</td>\n",
       "      <td>Africa</td>\n",
       "      <td>Master's</td>\n",
       "      <td>Y</td>\n",
       "      <td>N</td>\n",
       "      <td>1082</td>\n",
       "      <td>2005</td>\n",
       "      <td>South</td>\n",
       "      <td>149907.3900</td>\n",
       "      <td>Year</td>\n",
       "      <td>Y</td>\n",
       "      <td>Certified</td>\n",
       "    </tr>\n",
       "    <tr>\n",
       "      <th>...</th>\n",
       "      <td>...</td>\n",
       "      <td>...</td>\n",
       "      <td>...</td>\n",
       "      <td>...</td>\n",
       "      <td>...</td>\n",
       "      <td>...</td>\n",
       "      <td>...</td>\n",
       "      <td>...</td>\n",
       "      <td>...</td>\n",
       "      <td>...</td>\n",
       "      <td>...</td>\n",
       "      <td>...</td>\n",
       "    </tr>\n",
       "    <tr>\n",
       "      <th>25475</th>\n",
       "      <td>EZYV25476</td>\n",
       "      <td>Asia</td>\n",
       "      <td>Bachelor's</td>\n",
       "      <td>Y</td>\n",
       "      <td>Y</td>\n",
       "      <td>2601</td>\n",
       "      <td>2008</td>\n",
       "      <td>South</td>\n",
       "      <td>77092.5700</td>\n",
       "      <td>Year</td>\n",
       "      <td>Y</td>\n",
       "      <td>Certified</td>\n",
       "    </tr>\n",
       "    <tr>\n",
       "      <th>25476</th>\n",
       "      <td>EZYV25477</td>\n",
       "      <td>Asia</td>\n",
       "      <td>High School</td>\n",
       "      <td>Y</td>\n",
       "      <td>N</td>\n",
       "      <td>3274</td>\n",
       "      <td>2006</td>\n",
       "      <td>Northeast</td>\n",
       "      <td>279174.7900</td>\n",
       "      <td>Year</td>\n",
       "      <td>Y</td>\n",
       "      <td>Certified</td>\n",
       "    </tr>\n",
       "    <tr>\n",
       "      <th>25477</th>\n",
       "      <td>EZYV25478</td>\n",
       "      <td>Asia</td>\n",
       "      <td>Master's</td>\n",
       "      <td>Y</td>\n",
       "      <td>N</td>\n",
       "      <td>1121</td>\n",
       "      <td>1910</td>\n",
       "      <td>South</td>\n",
       "      <td>146298.8500</td>\n",
       "      <td>Year</td>\n",
       "      <td>N</td>\n",
       "      <td>Certified</td>\n",
       "    </tr>\n",
       "    <tr>\n",
       "      <th>25478</th>\n",
       "      <td>EZYV25479</td>\n",
       "      <td>Asia</td>\n",
       "      <td>Master's</td>\n",
       "      <td>Y</td>\n",
       "      <td>Y</td>\n",
       "      <td>1918</td>\n",
       "      <td>1887</td>\n",
       "      <td>West</td>\n",
       "      <td>86154.7700</td>\n",
       "      <td>Year</td>\n",
       "      <td>Y</td>\n",
       "      <td>Certified</td>\n",
       "    </tr>\n",
       "    <tr>\n",
       "      <th>25479</th>\n",
       "      <td>EZYV25480</td>\n",
       "      <td>Asia</td>\n",
       "      <td>Bachelor's</td>\n",
       "      <td>Y</td>\n",
       "      <td>N</td>\n",
       "      <td>3195</td>\n",
       "      <td>1960</td>\n",
       "      <td>Midwest</td>\n",
       "      <td>70876.9100</td>\n",
       "      <td>Year</td>\n",
       "      <td>Y</td>\n",
       "      <td>Certified</td>\n",
       "    </tr>\n",
       "  </tbody>\n",
       "</table>\n",
       "<p>25480 rows × 12 columns</p>\n",
       "</div>"
      ],
      "text/plain": [
       "         case_id continent education_of_employee has_job_experience  \\\n",
       "0         EZYV01      Asia           High School                  N   \n",
       "1         EZYV02      Asia              Master's                  Y   \n",
       "2         EZYV03      Asia            Bachelor's                  N   \n",
       "3         EZYV04      Asia            Bachelor's                  N   \n",
       "4         EZYV05    Africa              Master's                  Y   \n",
       "...          ...       ...                   ...                ...   \n",
       "25475  EZYV25476      Asia            Bachelor's                  Y   \n",
       "25476  EZYV25477      Asia           High School                  Y   \n",
       "25477  EZYV25478      Asia              Master's                  Y   \n",
       "25478  EZYV25479      Asia              Master's                  Y   \n",
       "25479  EZYV25480      Asia            Bachelor's                  Y   \n",
       "\n",
       "      requires_job_training  no_of_employees  yr_of_estab  \\\n",
       "0                         N            14513         2007   \n",
       "1                         N             2412         2002   \n",
       "2                         Y            44444         2008   \n",
       "3                         N               98         1897   \n",
       "4                         N             1082         2005   \n",
       "...                     ...              ...          ...   \n",
       "25475                     Y             2601         2008   \n",
       "25476                     N             3274         2006   \n",
       "25477                     N             1121         1910   \n",
       "25478                     Y             1918         1887   \n",
       "25479                     N             3195         1960   \n",
       "\n",
       "      region_of_employment  prevailing_wage unit_of_wage full_time_position  \\\n",
       "0                     West         592.2029         Hour                  Y   \n",
       "1                Northeast       83425.6500         Year                  Y   \n",
       "2                     West      122996.8600         Year                  Y   \n",
       "3                     West       83434.0300         Year                  Y   \n",
       "4                    South      149907.3900         Year                  Y   \n",
       "...                    ...              ...          ...                ...   \n",
       "25475                South       77092.5700         Year                  Y   \n",
       "25476            Northeast      279174.7900         Year                  Y   \n",
       "25477                South      146298.8500         Year                  N   \n",
       "25478                 West       86154.7700         Year                  Y   \n",
       "25479              Midwest       70876.9100         Year                  Y   \n",
       "\n",
       "      case_status  \n",
       "0          Denied  \n",
       "1       Certified  \n",
       "2          Denied  \n",
       "3          Denied  \n",
       "4       Certified  \n",
       "...           ...  \n",
       "25475   Certified  \n",
       "25476   Certified  \n",
       "25477   Certified  \n",
       "25478   Certified  \n",
       "25479   Certified  \n",
       "\n",
       "[25480 rows x 12 columns]"
      ]
     },
     "execution_count": 3,
     "metadata": {},
     "output_type": "execute_result"
    }
   ],
   "source": [
    "visa_dataset"
   ]
  },
  {
   "cell_type": "code",
   "execution_count": 4,
   "id": "36e8693a",
   "metadata": {},
   "outputs": [
    {
     "data": {
      "text/plain": [
       "0           592.2029\n",
       "1         83425.6500\n",
       "2        122996.8600\n",
       "3         83434.0300\n",
       "4        149907.3900\n",
       "            ...     \n",
       "25475     77092.5700\n",
       "25476    279174.7900\n",
       "25477    146298.8500\n",
       "25478     86154.7700\n",
       "25479     70876.9100\n",
       "Name: prevailing_wage, Length: 25480, dtype: float64"
      ]
     },
     "execution_count": 4,
     "metadata": {},
     "output_type": "execute_result"
    }
   ],
   "source": [
    "visa_dataset['prevailing_wage']"
   ]
  },
  {
   "cell_type": "code",
   "execution_count": null,
   "id": "7bfaa7f2",
   "metadata": {},
   "outputs": [],
   "source": [
    "## calculate :\n",
    " #x(min):\n",
    " #x(max):\n",
    "# dr=x(max)-x(min)\n",
    "# nr=v[pr]-xmin\n",
    "#v[pw_new]=nr/dr"
   ]
  },
  {
   "cell_type": "code",
   "execution_count": 6,
   "id": "774bb060",
   "metadata": {},
   "outputs": [
    {
     "data": {
      "text/plain": [
       "319210.27"
      ]
     },
     "execution_count": 6,
     "metadata": {},
     "output_type": "execute_result"
    }
   ],
   "source": [
    "# Maximum value\n",
    "visa_dataset['prevailing_wage'].max()"
   ]
  },
  {
   "cell_type": "code",
   "execution_count": 7,
   "id": "da00296b",
   "metadata": {},
   "outputs": [
    {
     "data": {
      "text/plain": [
       "2.1367"
      ]
     },
     "execution_count": 7,
     "metadata": {},
     "output_type": "execute_result"
    }
   ],
   "source": [
    "# Minimum value\n",
    "visa_dataset['prevailing_wage'].min()"
   ]
  },
  {
   "cell_type": "code",
   "execution_count": 8,
   "id": "3c93267f",
   "metadata": {},
   "outputs": [],
   "source": [
    "## values:\n",
    "p_wage_min=visa_dataset['prevailing_wage'].min()\n",
    "p_wage_max=visa_dataset['prevailing_wage'].max()\n",
    "num=visa_dataset['prevailing_wage']-p_wage_min\n",
    "den=p_wage_max-p_wage_min\n",
    "visa_dataset['prevailing_wage_new']=num/den"
   ]
  },
  {
   "cell_type": "code",
   "execution_count": 9,
   "id": "f44c3689",
   "metadata": {},
   "outputs": [
    {
     "data": {
      "text/html": [
       "<div>\n",
       "<style scoped>\n",
       "    .dataframe tbody tr th:only-of-type {\n",
       "        vertical-align: middle;\n",
       "    }\n",
       "\n",
       "    .dataframe tbody tr th {\n",
       "        vertical-align: top;\n",
       "    }\n",
       "\n",
       "    .dataframe thead th {\n",
       "        text-align: right;\n",
       "    }\n",
       "</style>\n",
       "<table border=\"1\" class=\"dataframe\">\n",
       "  <thead>\n",
       "    <tr style=\"text-align: right;\">\n",
       "      <th></th>\n",
       "      <th>prevailing_wage</th>\n",
       "      <th>prevailing_wage_new</th>\n",
       "    </tr>\n",
       "  </thead>\n",
       "  <tbody>\n",
       "    <tr>\n",
       "      <th>0</th>\n",
       "      <td>592.2029</td>\n",
       "      <td>0.001849</td>\n",
       "    </tr>\n",
       "    <tr>\n",
       "      <th>1</th>\n",
       "      <td>83425.6500</td>\n",
       "      <td>0.261345</td>\n",
       "    </tr>\n",
       "    <tr>\n",
       "      <th>2</th>\n",
       "      <td>122996.8600</td>\n",
       "      <td>0.385312</td>\n",
       "    </tr>\n",
       "    <tr>\n",
       "      <th>3</th>\n",
       "      <td>83434.0300</td>\n",
       "      <td>0.261371</td>\n",
       "    </tr>\n",
       "    <tr>\n",
       "      <th>4</th>\n",
       "      <td>149907.3900</td>\n",
       "      <td>0.469616</td>\n",
       "    </tr>\n",
       "    <tr>\n",
       "      <th>...</th>\n",
       "      <td>...</td>\n",
       "      <td>...</td>\n",
       "    </tr>\n",
       "    <tr>\n",
       "      <th>25475</th>\n",
       "      <td>77092.5700</td>\n",
       "      <td>0.241505</td>\n",
       "    </tr>\n",
       "    <tr>\n",
       "      <th>25476</th>\n",
       "      <td>279174.7900</td>\n",
       "      <td>0.874579</td>\n",
       "    </tr>\n",
       "    <tr>\n",
       "      <th>25477</th>\n",
       "      <td>146298.8500</td>\n",
       "      <td>0.458311</td>\n",
       "    </tr>\n",
       "    <tr>\n",
       "      <th>25478</th>\n",
       "      <td>86154.7700</td>\n",
       "      <td>0.269895</td>\n",
       "    </tr>\n",
       "    <tr>\n",
       "      <th>25479</th>\n",
       "      <td>70876.9100</td>\n",
       "      <td>0.222033</td>\n",
       "    </tr>\n",
       "  </tbody>\n",
       "</table>\n",
       "<p>25480 rows × 2 columns</p>\n",
       "</div>"
      ],
      "text/plain": [
       "       prevailing_wage  prevailing_wage_new\n",
       "0             592.2029             0.001849\n",
       "1           83425.6500             0.261345\n",
       "2          122996.8600             0.385312\n",
       "3           83434.0300             0.261371\n",
       "4          149907.3900             0.469616\n",
       "...                ...                  ...\n",
       "25475       77092.5700             0.241505\n",
       "25476      279174.7900             0.874579\n",
       "25477      146298.8500             0.458311\n",
       "25478       86154.7700             0.269895\n",
       "25479       70876.9100             0.222033\n",
       "\n",
       "[25480 rows x 2 columns]"
      ]
     },
     "execution_count": 9,
     "metadata": {},
     "output_type": "execute_result"
    }
   ],
   "source": [
    "visa_dataset[['prevailing_wage','prevailing_wage_new']]"
   ]
  },
  {
   "cell_type": "code",
   "execution_count": null,
   "id": "c4f6150d",
   "metadata": {},
   "outputs": [],
   "source": [
    "visa_dataset[['prevailing_wage','prevailing_wage_new']]\n",
    "## id_max\n",
    "## id_min"
   ]
  },
  {
   "cell_type": "code",
   "execution_count": 10,
   "id": "b8a74428",
   "metadata": {},
   "outputs": [
    {
     "data": {
      "text/plain": [
       "21077"
      ]
     },
     "execution_count": 10,
     "metadata": {},
     "output_type": "execute_result"
    }
   ],
   "source": [
    "maxx=visa_dataset['prevailing_wage'].idxmax()\n",
    "maxx"
   ]
  },
  {
   "cell_type": "code",
   "execution_count": 11,
   "id": "ce900be8",
   "metadata": {},
   "outputs": [
    {
     "data": {
      "text/plain": [
       "20575"
      ]
     },
     "execution_count": 11,
     "metadata": {},
     "output_type": "execute_result"
    }
   ],
   "source": [
    "minn=visa_dataset['prevailing_wage'].idxmin()\n",
    "minn"
   ]
  },
  {
   "cell_type": "code",
   "execution_count": 12,
   "id": "d784e714",
   "metadata": {},
   "outputs": [
    {
     "name": "stdout",
     "output_type": "stream",
     "text": [
      "21077 20575\n"
     ]
    }
   ],
   "source": [
    "maxx=visa_dataset['prevailing_wage'].idxmax()\n",
    "minn=visa_dataset['prevailing_wage'].idxmin()\n",
    "print(maxx,minn)"
   ]
  },
  {
   "cell_type": "code",
   "execution_count": 13,
   "id": "a61e7199",
   "metadata": {},
   "outputs": [
    {
     "name": "stdout",
     "output_type": "stream",
     "text": [
      "21077 20575\n"
     ]
    }
   ],
   "source": [
    "maxx_id=visa_dataset['prevailing_wage_new'].idxmax()\n",
    "minn_id=visa_dataset['prevailing_wage_new'].idxmin()\n",
    "print(maxx_id,minn_id)"
   ]
  },
  {
   "cell_type": "code",
   "execution_count": 14,
   "id": "6062ea19",
   "metadata": {},
   "outputs": [
    {
     "data": {
      "text/plain": [
       "21077    319210.2700\n",
       "20575         2.1367\n",
       "Name: prevailing_wage, dtype: float64"
      ]
     },
     "execution_count": 14,
     "metadata": {},
     "output_type": "execute_result"
    }
   ],
   "source": [
    "visa_dataset['prevailing_wage'].iloc[[maxx,minn]]"
   ]
  },
  {
   "cell_type": "code",
   "execution_count": 15,
   "id": "22ac5a81",
   "metadata": {},
   "outputs": [
    {
     "data": {
      "text/plain": [
       "21077    1.0\n",
       "20575    0.0\n",
       "Name: prevailing_wage_new, dtype: float64"
      ]
     },
     "execution_count": 15,
     "metadata": {},
     "output_type": "execute_result"
    }
   ],
   "source": [
    "visa_dataset['prevailing_wage_new'].iloc[[maxx_id,minn_id]] ## within new the max and min values are converted into the following values\n",
    "# max value to 1.0 and min value to 0.0 from max=319210.2700 and min = 2.1367\n",
    "## 2100"
   ]
  },
  {
   "cell_type": "code",
   "execution_count": null,
   "id": "da1dee22",
   "metadata": {},
   "outputs": [],
   "source": [
    "##Method-2"
   ]
  },
  {
   "cell_type": "code",
   "execution_count": null,
   "id": "aae136b2",
   "metadata": {},
   "outputs": [],
   "source": [
    "## import the package -- minmax scalar\n",
    "## save the package\n",
    "## apply fit transform\n"
   ]
  },
  {
   "cell_type": "code",
   "execution_count": 19,
   "id": "2230ca38",
   "metadata": {},
   "outputs": [],
   "source": [
    "file_name=\"C:\\\\Users\\\\S Nikitha\\\\Downloads\\\\Visadataset - Visadataset.csv\"\n",
    "visa_dataset=pd.read_csv(file_name)\n",
    "\n",
    "\n",
    "from sklearn.preprocessing import MinMaxScaler\n",
    "mms=MinMaxScaler()\n",
    "visa_dataset[\"prevailing_wage_nw_1\"]=mms.fit_transform(visa_dataset['prevailing_wage'].values.reshape(-1,1))"
   ]
  },
  {
   "cell_type": "code",
   "execution_count": null,
   "id": "3f37c852",
   "metadata": {},
   "outputs": [],
   "source": [
    "var1=mms.fit_transform(visa_dataset['prevailing_wage'].values.reshape(-1,1))"
   ]
  },
  {
   "cell_type": "code",
   "execution_count": 20,
   "id": "de6df174",
   "metadata": {},
   "outputs": [
    {
     "data": {
      "text/plain": [
       "0        0.001849\n",
       "1        0.261345\n",
       "2        0.385312\n",
       "3        0.261371\n",
       "4        0.469616\n",
       "           ...   \n",
       "25475    0.241505\n",
       "25476    0.874579\n",
       "25477    0.458311\n",
       "25478    0.269895\n",
       "25479    0.222033\n",
       "Name: prevailing_wage_nw_1, Length: 25480, dtype: float64"
      ]
     },
     "execution_count": 20,
     "metadata": {},
     "output_type": "execute_result"
    }
   ],
   "source": [
    "visa_dataset['prevailing_wage_nw_1']"
   ]
  },
  {
   "cell_type": "code",
   "execution_count": 17,
   "id": "e92f7b48",
   "metadata": {},
   "outputs": [
    {
     "data": {
      "text/plain": [
       "array([   592.2029,  83425.65  , 122996.86  , ..., 146298.85  ,\n",
       "        86154.77  ,  70876.91  ])"
      ]
     },
     "execution_count": 17,
     "metadata": {},
     "output_type": "execute_result"
    }
   ],
   "source": [
    "visa_dataset['prevailing_wage'].values ## values means all values will be converted into arrange"
   ]
  },
  {
   "cell_type": "code",
   "execution_count": 18,
   "id": "03a57dd2",
   "metadata": {},
   "outputs": [
    {
     "data": {
      "text/plain": [
       "(25480,)"
      ]
     },
     "execution_count": 18,
     "metadata": {},
     "output_type": "execute_result"
    }
   ],
   "source": [
    "visa_dataset['prevailing_wage'].values.shape\n",
    "## (25480,1)"
   ]
  },
  {
   "cell_type": "code",
   "execution_count": 21,
   "id": "35e76e76",
   "metadata": {},
   "outputs": [
    {
     "data": {
      "text/plain": [
       "array([[   592.2029],\n",
       "       [ 83425.65  ],\n",
       "       [122996.86  ],\n",
       "       ...,\n",
       "       [146298.85  ],\n",
       "       [ 86154.77  ],\n",
       "       [ 70876.91  ]])"
      ]
     },
     "execution_count": 21,
     "metadata": {},
     "output_type": "execute_result"
    }
   ],
   "source": [
    "visa_dataset['prevailing_wage'].values.reshape(-1,1)"
   ]
  },
  {
   "cell_type": "code",
   "execution_count": 22,
   "id": "e35d6eb8",
   "metadata": {},
   "outputs": [
    {
     "data": {
      "text/plain": [
       "1"
      ]
     },
     "execution_count": 22,
     "metadata": {},
     "output_type": "execute_result"
    }
   ],
   "source": [
    "visa_dataset['prevailing_wage'].values.ndim ## one-dimension"
   ]
  },
  {
   "cell_type": "code",
   "execution_count": 23,
   "id": "4e0f8d8b",
   "metadata": {},
   "outputs": [
    {
     "data": {
      "text/plain": [
       "array([   592.2029,  83425.65  , 122996.86  , ..., 146298.85  ,\n",
       "        86154.77  ,  70876.91  ])"
      ]
     },
     "execution_count": 23,
     "metadata": {},
     "output_type": "execute_result"
    }
   ],
   "source": [
    "visa_dataset['prevailing_wage'].values"
   ]
  },
  {
   "cell_type": "code",
   "execution_count": 24,
   "id": "22c789b8",
   "metadata": {},
   "outputs": [
    {
     "data": {
      "text/plain": [
       "array([[   592.2029],\n",
       "       [ 83425.65  ],\n",
       "       [122996.86  ],\n",
       "       ...,\n",
       "       [146298.85  ],\n",
       "       [ 86154.77  ],\n",
       "       [ 70876.91  ]])"
      ]
     },
     "execution_count": 24,
     "metadata": {},
     "output_type": "execute_result"
    }
   ],
   "source": [
    "visa_dataset['prevailing_wage'].values.reshape(-1,1) ## single single value"
   ]
  },
  {
   "cell_type": "code",
   "execution_count": 25,
   "id": "9f8e7cb6",
   "metadata": {},
   "outputs": [
    {
     "data": {
      "text/plain": [
       "2"
      ]
     },
     "execution_count": 25,
     "metadata": {},
     "output_type": "execute_result"
    }
   ],
   "source": [
    "visa_dataset['prevailing_wage'].values.reshape(-1,1).ndim"
   ]
  },
  {
   "cell_type": "code",
   "execution_count": 26,
   "id": "d6093c60",
   "metadata": {},
   "outputs": [
    {
     "data": {
      "text/plain": [
       "0        0.001849\n",
       "1        0.261345\n",
       "2        0.385312\n",
       "3        0.261371\n",
       "4        0.469616\n",
       "           ...   \n",
       "25475    0.241505\n",
       "25476    0.874579\n",
       "25477    0.458311\n",
       "25478    0.269895\n",
       "25479    0.222033\n",
       "Name: prevailing_wage_nw_1, Length: 25480, dtype: float64"
      ]
     },
     "execution_count": 26,
     "metadata": {},
     "output_type": "execute_result"
    }
   ],
   "source": [
    "visa_dataset['prevailing_wage_nw_1']\n"
   ]
  },
  {
   "cell_type": "markdown",
   "id": "5b46f53a",
   "metadata": {},
   "source": [
    "# Standardization"
   ]
  },
  {
   "cell_type": "code",
   "execution_count": 29,
   "id": "9bf00ca3",
   "metadata": {},
   "outputs": [],
   "source": [
    "## formula: Z-score= x-u/sigma\n",
    "#Method-1:\n",
    "## mean\n",
    "## std\n",
    "## nr\n",
    "## nr/std\n",
    "\n",
    "## StandardScalar"
   ]
  },
  {
   "cell_type": "code",
   "execution_count": 28,
   "id": "ec6974e9",
   "metadata": {},
   "outputs": [
    {
     "data": {
      "text/plain": [
       "74455.81459209183"
      ]
     },
     "execution_count": 28,
     "metadata": {},
     "output_type": "execute_result"
    }
   ],
   "source": [
    "visa_dataset['prevailing_wage'].mean()"
   ]
  },
  {
   "cell_type": "code",
   "execution_count": 31,
   "id": "8d454911",
   "metadata": {},
   "outputs": [
    {
     "data": {
      "text/plain": [
       "74455.81459209183"
      ]
     },
     "execution_count": 31,
     "metadata": {},
     "output_type": "execute_result"
    }
   ],
   "source": [
    "mean_val=visa_dataset['prevailing_wage'].mean()\n",
    "mean_val"
   ]
  },
  {
   "cell_type": "code",
   "execution_count": 32,
   "id": "e4570f77",
   "metadata": {},
   "outputs": [],
   "source": [
    "file_name=\"C:\\\\Users\\\\S Nikitha\\\\Downloads\\\\Visadataset - Visadataset.csv\"\n",
    "visa_dataset=pd.read_csv(file_name)\n",
    "\n",
    "p_wage_mean_val=visa_dataset['prevailing_wage'].mean()\n",
    "p_mean_std=visa_dataset['prevailing_wage'].std()\n",
    "numr=visa_dataset['prevailing_wage']-p_wage_mean_val\n",
    "visa_dataset['prevailing_wage_new2']=numr/p_mean_std"
   ]
  },
  {
   "cell_type": "code",
   "execution_count": 33,
   "id": "027180e2",
   "metadata": {},
   "outputs": [
    {
     "data": {
      "text/html": [
       "<div>\n",
       "<style scoped>\n",
       "    .dataframe tbody tr th:only-of-type {\n",
       "        vertical-align: middle;\n",
       "    }\n",
       "\n",
       "    .dataframe tbody tr th {\n",
       "        vertical-align: top;\n",
       "    }\n",
       "\n",
       "    .dataframe thead th {\n",
       "        text-align: right;\n",
       "    }\n",
       "</style>\n",
       "<table border=\"1\" class=\"dataframe\">\n",
       "  <thead>\n",
       "    <tr style=\"text-align: right;\">\n",
       "      <th></th>\n",
       "      <th>prevailing_wage</th>\n",
       "      <th>prevailing_wage_new2</th>\n",
       "    </tr>\n",
       "  </thead>\n",
       "  <tbody>\n",
       "    <tr>\n",
       "      <th>0</th>\n",
       "      <td>592.2029</td>\n",
       "      <td>-1.398510</td>\n",
       "    </tr>\n",
       "    <tr>\n",
       "      <th>1</th>\n",
       "      <td>83425.6500</td>\n",
       "      <td>0.169832</td>\n",
       "    </tr>\n",
       "    <tr>\n",
       "      <th>2</th>\n",
       "      <td>122996.8600</td>\n",
       "      <td>0.919060</td>\n",
       "    </tr>\n",
       "    <tr>\n",
       "      <th>3</th>\n",
       "      <td>83434.0300</td>\n",
       "      <td>0.169991</td>\n",
       "    </tr>\n",
       "    <tr>\n",
       "      <th>4</th>\n",
       "      <td>149907.3900</td>\n",
       "      <td>1.428576</td>\n",
       "    </tr>\n",
       "    <tr>\n",
       "      <th>...</th>\n",
       "      <td>...</td>\n",
       "      <td>...</td>\n",
       "    </tr>\n",
       "    <tr>\n",
       "      <th>25475</th>\n",
       "      <td>77092.5700</td>\n",
       "      <td>0.049923</td>\n",
       "    </tr>\n",
       "    <tr>\n",
       "      <th>25476</th>\n",
       "      <td>279174.7900</td>\n",
       "      <td>3.876083</td>\n",
       "    </tr>\n",
       "    <tr>\n",
       "      <th>25477</th>\n",
       "      <td>146298.8500</td>\n",
       "      <td>1.360253</td>\n",
       "    </tr>\n",
       "    <tr>\n",
       "      <th>25478</th>\n",
       "      <td>86154.7700</td>\n",
       "      <td>0.221504</td>\n",
       "    </tr>\n",
       "    <tr>\n",
       "      <th>25479</th>\n",
       "      <td>70876.9100</td>\n",
       "      <td>-0.067762</td>\n",
       "    </tr>\n",
       "  </tbody>\n",
       "</table>\n",
       "<p>25480 rows × 2 columns</p>\n",
       "</div>"
      ],
      "text/plain": [
       "       prevailing_wage  prevailing_wage_new2\n",
       "0             592.2029             -1.398510\n",
       "1           83425.6500              0.169832\n",
       "2          122996.8600              0.919060\n",
       "3           83434.0300              0.169991\n",
       "4          149907.3900              1.428576\n",
       "...                ...                   ...\n",
       "25475       77092.5700              0.049923\n",
       "25476      279174.7900              3.876083\n",
       "25477      146298.8500              1.360253\n",
       "25478       86154.7700              0.221504\n",
       "25479       70876.9100             -0.067762\n",
       "\n",
       "[25480 rows x 2 columns]"
      ]
     },
     "execution_count": 33,
     "metadata": {},
     "output_type": "execute_result"
    }
   ],
   "source": [
    "visa_dataset[['prevailing_wage','prevailing_wage_new2']]"
   ]
  },
  {
   "cell_type": "code",
   "execution_count": 34,
   "id": "5f07f795",
   "metadata": {},
   "outputs": [
    {
     "name": "stdout",
     "output_type": "stream",
     "text": [
      "4.634101837909902 -1.4096818992891214\n"
     ]
    }
   ],
   "source": [
    "maxi=visa_dataset['prevailing_wage_new2'].max()\n",
    "mini=visa_dataset['prevailing_wage_new2'].min()\n",
    "print(maxi,mini)"
   ]
  },
  {
   "cell_type": "code",
   "execution_count": null,
   "id": "ce850026",
   "metadata": {},
   "outputs": [],
   "source": [
    "### Extract the count values ranges -3 to 3 --99.7"
   ]
  },
  {
   "cell_type": "code",
   "execution_count": 37,
   "id": "44383f95",
   "metadata": {},
   "outputs": [
    {
     "data": {
      "text/plain": [
       "25186"
      ]
     },
     "execution_count": 37,
     "metadata": {},
     "output_type": "execute_result"
    }
   ],
   "source": [
    "con1=visa_dataset['prevailing_wage_new2']<3\n",
    "con2=visa_dataset['prevailing_wage_new2']>-3\n",
    "count_33=len(visa_dataset[con1&con2])\n",
    "count_33"
   ]
  },
  {
   "cell_type": "code",
   "execution_count": 35,
   "id": "1d2dc3cb",
   "metadata": {},
   "outputs": [
    {
     "data": {
      "text/plain": [
       "0.9884615384615385"
      ]
     },
     "execution_count": 35,
     "metadata": {},
     "output_type": "execute_result"
    }
   ],
   "source": [
    "25186/25480"
   ]
  },
  {
   "cell_type": "code",
   "execution_count": 40,
   "id": "db55cf93",
   "metadata": {},
   "outputs": [
    {
     "data": {
      "image/png": "[encoded data removed]",
      "text/plain": [
       "<Figure size 640x480 with 2 Axes>"
      ]
     },
     "metadata": {},
     "output_type": "display_data"
    }
   ],
   "source": [
    "import matplotlib.pyplot as plt\n",
    "plt.subplot(1,2,1)\n",
    "plt.hist(visa_dataset['prevailing_wage_new2'],bins=40)\n",
    "\n",
    "plt.subplot(1,2,2)\n",
    "plt.hist(visa_dataset['prevailing_wage'],bins=40)\n",
    "plt.show()"
   ]
  },
  {
   "cell_type": "code",
   "execution_count": null,
   "id": "4748732f",
   "metadata": {},
   "outputs": [],
   "source": [
    "### Extract the count values ranges -2 to 2 -- 95%"
   ]
  },
  {
   "cell_type": "code",
   "execution_count": 38,
   "id": "8d987ac4",
   "metadata": {},
   "outputs": [
    {
     "data": {
      "text/plain": [
       "24582"
      ]
     },
     "execution_count": 38,
     "metadata": {},
     "output_type": "execute_result"
    }
   ],
   "source": [
    "con1=visa_dataset['prevailing_wage_new2']<2\n",
    "con2=visa_dataset['prevailing_wage_new2']>-2\n",
    "count_22=len(visa_dataset[con1&con2])\n",
    "count_22"
   ]
  },
  {
   "cell_type": "code",
   "execution_count": 41,
   "id": "1d63b53e",
   "metadata": {},
   "outputs": [
    {
     "data": {
      "text/plain": [
       "0.9647566718995291"
      ]
     },
     "execution_count": 41,
     "metadata": {},
     "output_type": "execute_result"
    }
   ],
   "source": [
    "24582/25480"
   ]
  },
  {
   "cell_type": "code",
   "execution_count": null,
   "id": "c2643e72",
   "metadata": {},
   "outputs": [],
   "source": [
    "### Extract the count values ranges -1 to 1   -- 68%"
   ]
  },
  {
   "cell_type": "code",
   "execution_count": 42,
   "id": "23088f6d",
   "metadata": {},
   "outputs": [
    {
     "data": {
      "text/plain": [
       "17171"
      ]
     },
     "execution_count": 42,
     "metadata": {},
     "output_type": "execute_result"
    }
   ],
   "source": [
    "con1=visa_dataset['prevailing_wage_new2']<1\n",
    "con2=visa_dataset['prevailing_wage_new2']>-1\n",
    "count_11=len(visa_dataset[con1&con2])\n",
    "count_11"
   ]
  },
  {
   "cell_type": "code",
   "execution_count": 43,
   "id": "f1e3e254",
   "metadata": {},
   "outputs": [
    {
     "data": {
      "text/plain": [
       "0.673901098901099"
      ]
     },
     "execution_count": 43,
     "metadata": {},
     "output_type": "execute_result"
    }
   ],
   "source": [
    "17171/25480"
   ]
  },
  {
   "cell_type": "code",
   "execution_count": null,
   "id": "60a7c63f",
   "metadata": {},
   "outputs": [],
   "source": [
    "##Method-2:\n",
    "from sklearn.preprocessing import StandardScaler\n",
    "ss=StandardScaler()\n",
    "visa_dataset['prevailing_wage_new3']=ss.fit_transform(visa_dataset[['prevailing_wage']])"
   ]
  },
  {
   "cell_type": "code",
   "execution_count": null,
   "id": "929281a4",
   "metadata": {},
   "outputs": [],
   "source": []
  },
  {
   "cell_type": "code",
   "execution_count": null,
   "id": "51282b27",
   "metadata": {},
   "outputs": [],
   "source": []
  },
  {
   "cell_type": "code",
   "execution_count": null,
   "id": "51da471a",
   "metadata": {},
   "outputs": [],
   "source": []
  },
  {
   "cell_type": "code",
   "execution_count": null,
   "id": "916481e6",
   "metadata": {},
   "outputs": [],
   "source": []
  }
 ],
 "metadata": {
  "kernelspec": {
   "display_name": "Python 3 (ipykernel)",
   "language": "python",
   "name": "python3"
  },
  "language_info": {
   "codemirror_mode": {
    "name": "ipython",
    "version": 3
   },
   "file_extension": ".py",
   "mimetype": "text/x-python",
   "name": "python",
   "nbconvert_exporter": "python",
   "pygments_lexer": "ipython3",
   "version": "3.10.9"
  }
 },
 "nbformat": 4,
 "nbformat_minor": 5
}
